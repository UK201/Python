{
 "cells": [
  {
   "cell_type": "markdown",
   "metadata": {},
   "source": [
    "# Assignment 2"
   ]
  },
  {
   "cell_type": "markdown",
   "metadata": {},
   "source": [
    "# Task_1"
   ]
  },
  {
   "cell_type": "code",
   "execution_count": 2,
   "metadata": {},
   "outputs": [
    {
     "name": "stdout",
     "output_type": "stream",
     "text": [
      "29\n"
     ]
    }
   ],
   "source": [
    "#1.1\n",
    "l = [9,2,3,4,5,6]\n",
    "k = l[0]\n",
    "for i in l[1::]:\n",
    "    k = k+i\n",
    "print(k)"
   ]
  },
  {
   "cell_type": "code",
   "execution_count": 3,
   "metadata": {},
   "outputs": [
    {
     "data": {
      "text/plain": [
       "[2, 4, 6, 8]"
      ]
     },
     "execution_count": 3,
     "metadata": {},
     "output_type": "execute_result"
    }
   ],
   "source": [
    "#1.2\n",
    "l = [1,2,3,4,5,6,7,8,9]\n",
    "m = []\n",
    "for i in l:\n",
    "    if i%2==0:\n",
    "        m.append(i)\n",
    "m\n",
    "        "
   ]
  },
  {
   "cell_type": "code",
   "execution_count": 4,
   "metadata": {},
   "outputs": [
    {
     "data": {
      "text/plain": [
       "'wgfuiwegfuiwfghfoghofof'"
      ]
     },
     "execution_count": 4,
     "metadata": {},
     "output_type": "execute_result"
    }
   ],
   "source": [
    "#3\n",
    "l = [\"abc\",\"ffhjyfjy\",\"tuieetuiti\",\"gfdgfsdgfssukddg\",\"wedfwe\",\"wgfuiwegfuiwfghfoghofof\",\"ftyfufufufju\"]\n",
    "def LongestWord(a):\n",
    "    m=[]\n",
    "    for i in a:\n",
    "        m.append(len(i))\n",
    "    for i in a:\n",
    "        if len(i) == max(m):\n",
    "            return i\n",
    "LongestWord(l)\n"
   ]
  },
  {
   "cell_type": "markdown",
   "metadata": {},
   "source": [
    "# Task_2"
   ]
  },
  {
   "cell_type": "code",
   "execution_count": 6,
   "metadata": {},
   "outputs": [
    {
     "name": "stdout",
     "output_type": "stream",
     "text": [
      "<__main__.Triangle object at 0x0000020AEE1FFE08>\n"
     ]
    }
   ],
   "source": [
    "#1.1\n",
    "class Triangle:\n",
    "    def __init__(self,a,b,c):\n",
    "        self.a = a\n",
    "        self.b = b\n",
    "        self.c = c  \n",
    "t= Triangle(3,4,5)\n",
    "print(t)\n"
   ]
  },
  {
   "cell_type": "code",
   "execution_count": 7,
   "metadata": {},
   "outputs": [
    {
     "name": "stdout",
     "output_type": "stream",
     "text": [
      "27.810744326608734\n"
     ]
    }
   ],
   "source": [
    "class Area(Triangle):\n",
    "    def __init__(self,*args):\n",
    "        super(Area,self).__init__(*args)\n",
    "    def __str__(self):\n",
    "        s = (self.a+self.b+self.c)/2\n",
    "        A = (s*(s-self.a)*(s-self.b)*(s-self.c))**0.5\n",
    "        return str(A)    \n",
    "p =Area(7,8,10)\n",
    "print(p)\n",
    "    "
   ]
  },
  {
   "cell_type": "code",
   "execution_count": 8,
   "metadata": {},
   "outputs": [
    {
     "name": "stdout",
     "output_type": "stream",
     "text": [
      "5\n"
     ]
    },
    {
     "data": {
      "text/plain": [
       "['ffhjyfjy', 'tuieetuiti', 'wedfwe', 'ftyfufufufju']"
      ]
     },
     "execution_count": 8,
     "metadata": {},
     "output_type": "execute_result"
    }
   ],
   "source": [
    "#1.2\n",
    "l = [\"abc\",\"ffhjyfjy\",\"tuieetuiti\",\"wedfwe\",\"ftyfufufufju\"]\n",
    "def filter_long_words(a):\n",
    "    m = []\n",
    "    n= int(input())\n",
    "    for i in a:\n",
    "        if len(i)>n:\n",
    "            m.append(i)\n",
    "    return m \n",
    "filter_long_words(l)"
   ]
  },
  {
   "cell_type": "code",
   "execution_count": 9,
   "metadata": {},
   "outputs": [
    {
     "data": {
      "text/plain": [
       "[3, 8, 10, 6]"
      ]
     },
     "execution_count": 9,
     "metadata": {},
     "output_type": "execute_result"
    }
   ],
   "source": [
    "# 2.1\n",
    "l = [\"abc\",\"ffhjyfjy\",\"tuieetuiti\",\"wedfwe\"]\n",
    "def no_count(a):\n",
    "    return len(a)\n",
    "list(map(no_count,l))"
   ]
  },
  {
   "cell_type": "code",
   "execution_count": 10,
   "metadata": {},
   "outputs": [
    {
     "data": {
      "text/plain": [
       "False"
      ]
     },
     "execution_count": 10,
     "metadata": {},
     "output_type": "execute_result"
    }
   ],
   "source": [
    "#2.2\n",
    "vowel = ['a','e','i','o','u']\n",
    "def check(x):\n",
    "    if x in vowel:\n",
    "        return True\n",
    "    else:\n",
    "        return False\n",
    "check('w')"
   ]
  },
  {
   "cell_type": "code",
   "execution_count": null,
   "metadata": {},
   "outputs": [],
   "source": []
  }
 ],
 "metadata": {
  "kernelspec": {
   "display_name": "Python 3",
   "language": "python",
   "name": "python3"
  },
  "language_info": {
   "codemirror_mode": {
    "name": "ipython",
    "version": 3
   },
   "file_extension": ".py",
   "mimetype": "text/x-python",
   "name": "python",
   "nbconvert_exporter": "python",
   "pygments_lexer": "ipython3",
   "version": "3.7.4"
  }
 },
 "nbformat": 4,
 "nbformat_minor": 2
}
